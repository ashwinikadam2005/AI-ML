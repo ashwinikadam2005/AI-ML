{
  "nbformat": 4,
  "nbformat_minor": 0,
  "metadata": {
    "colab": {
      "provenance": [],
      "authorship_tag": "ABX9TyMfY3cdHyuMADvLfgbsFSKZ",
      "include_colab_link": true
    },
    "kernelspec": {
      "name": "python3",
      "display_name": "Python 3"
    },
    "language_info": {
      "name": "python"
    }
  },
  "cells": [
    {
      "cell_type": "markdown",
      "metadata": {
        "id": "view-in-github",
        "colab_type": "text"
      },
      "source": [
        "<a href=\"https://colab.research.google.com/github/ashwinikadam2005/AI-ML/blob/main/expt1_py.ipynb\" target=\"_parent\"><img src=\"https://colab.research.google.com/assets/colab-badge.svg\" alt=\"Open In Colab\"/></a>"
      ]
    },
    {
      "cell_type": "code",
      "execution_count": 13,
      "metadata": {
        "id": "L9CQSu4UXhge",
        "colab": {
          "base_uri": "https://localhost:8080/"
        },
        "outputId": "7ec3c932-608c-4953-9b6f-55df8ad35b6f"
      },
      "outputs": [
        {
          "output_type": "stream",
          "name": "stdout",
          "text": [
            "Enter number of terms: 5\n",
            "1\n",
            "2\n",
            "3\n",
            "5\n",
            "8\n"
          ]
        }
      ],
      "source": [
        "#Addition of two Numbers\n",
        "#a=10\n",
        "# b=20\n",
        "# print(a+b)\n",
        "\n",
        "#Area of circle\n",
        "# r=int(input(\"Enter radius of circle: \"))\n",
        "# print(\"Area of cirle is: \",3.14*r**2)\n",
        "\n",
        "#Palindrome\n",
        "# str=input(\"Enter a String: \")\n",
        "# str1=str[::-1]\n",
        "# print(str1)\n",
        "# if str==str1:\n",
        "#   print(\"String is Palindrome\")\n",
        "# else:\n",
        "#   print(\"String is not Palindrome\")\n",
        "\n",
        "#Armstrong Number\n",
        "# n=input(\"Enter a Number: \")\n",
        "# l=len(n)\n",
        "# sum=0\n",
        "# for i in n:\n",
        "#   sum=sum+int(i)**l\n",
        "# print(sum)\n",
        "# if sum==int(n):\n",
        "#   print(\"Number is Armstrong\")\n",
        "# else:\n",
        "#   print(\"Number is Not Armstrong\")\n",
        "\n",
        "#Fibonancci series\n",
        "# a=0\n",
        "# b=1\n",
        "# n=int(input(\"Enter number of terms: \"))\n",
        "# for i in range(1,n+1):\n",
        "#   c=a+b\n",
        "#   print(c)\n",
        "#   a=b\n",
        "#   b=c\n",
        "\n",
        "#"
      ]
    },
    {
      "cell_type": "code",
      "source": [],
      "metadata": {
        "id": "qhRy7Yz0lH9i"
      },
      "execution_count": null,
      "outputs": []
    }
  ]
}